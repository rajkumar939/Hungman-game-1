{
  "nbformat": 4,
  "nbformat_minor": 0,
  "metadata": {
    "colab": {
      "provenance": [],
      "authorship_tag": "ABX9TyO/B6jR7Cbh9HDr3afqX4wc",
      "include_colab_link": true
    },
    "kernelspec": {
      "name": "python3",
      "display_name": "Python 3"
    },
    "language_info": {
      "name": "python"
    }
  },
  "cells": [
    {
      "cell_type": "markdown",
      "metadata": {
        "id": "view-in-github",
        "colab_type": "text"
      },
      "source": [
        "<a href=\"https://colab.research.google.com/github/rajkumar939/Hungman-game-1/blob/main/hangmangame.ipynb\" target=\"_parent\"><img src=\"https://colab.research.google.com/assets/colab-badge.svg\" alt=\"Open In Colab\"/></a>"
      ]
    },
    {
      "cell_type": "code",
      "execution_count": 1,
      "metadata": {
        "colab": {
          "base_uri": "https://localhost:8080/"
        },
        "id": "zHailkM1I16t",
        "outputId": "fe111e60-3153-4fe6-f0dd-d19c36cf2827"
      },
      "outputs": [
        {
          "output_type": "stream",
          "name": "stdout",
          "text": [
            "What is your name? Rajkumar\n",
            "Hello, Rajkumar Time to play hangman!\n",
            "Start guessing...\n",
            "______guess a character:e\n",
            "_e__e_guess a character:c\n",
            "_ec_e_guess a character:t\n",
            "_ec_etguess a character:s\n",
            "sec_etguess a character:r\n",
            "secretYou won\n"
          ]
        }
      ],
      "source": [
        "#importing the time module\n",
        "import time\n",
        "\n",
        "#welcoming the user\n",
        "name = input(\"What is your name? \")\n",
        "\n",
        "print (\"Hello, \" + name, \"Time to play hangman!\")\n",
        "\n",
        "#wait for 1 second\n",
        "time.sleep(1)\n",
        "\n",
        "print (\"Start guessing...\")\n",
        "time.sleep(0.5)\n",
        "\n",
        "#here we set the secret. You can select any word to play with.\n",
        "word = (\"secret\")\n",
        "\n",
        "#creates an variable with an empty value\n",
        "guesses = ''\n",
        "\n",
        "#determine the number of turns\n",
        "turns = 10\n",
        "\n",
        "# Create a while loop\n",
        "\n",
        "#check if the turns are more than zero\n",
        "while turns > 0:\n",
        "\n",
        "    # make a counter that starts with zero\n",
        "    failed = 0\n",
        "\n",
        "    # for every character in secret_word\n",
        "    for char in word:\n",
        "\n",
        "    # see if the character is in the players guess\n",
        "        if char in guesses:\n",
        "\n",
        "        # print then out the character\n",
        "            print (char,end=\"\"),\n",
        "\n",
        "        else:\n",
        "\n",
        "        # if not found, print a dash\n",
        "            print (\"_\",end=\"\"),\n",
        "\n",
        "        # and increase the failed counter with one\n",
        "            failed += 1\n",
        "\n",
        "    # if failed is equal to zero\n",
        "\n",
        "    # print You Won\n",
        "    if failed == 0:\n",
        "        print (\"You won\")\n",
        "    # exit the script\n",
        "        break\n",
        "    # ask the user go guess a character\n",
        "    guess = input(\"guess a character:\")\n",
        "\n",
        "    # set the players guess to guesses\n",
        "    guesses += guess\n",
        "\n",
        "    # if the guess is not found in the secret word\n",
        "    if guess not in word:\n",
        "\n",
        "     # turns counter decreases with 1 (now 9)\n",
        "        turns -= 1\n",
        "\n",
        "    # print wrong\n",
        "        print (\"Wrong\")\n",
        "\n",
        "    # how many turns are left\n",
        "        print (\"You have\", + turns, 'more guesses' )\n",
        "\n",
        "    # if the turns are equal to zero\n",
        "        if turns == 0:\n",
        "\n",
        "        # print \"You Lose\"\n",
        "            print (\"You Lose\"  )\n"
      ]
    }
  ]
}